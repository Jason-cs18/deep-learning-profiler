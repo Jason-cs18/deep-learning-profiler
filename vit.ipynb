{
 "cells": [
  {
   "cell_type": "markdown",
   "metadata": {},
   "source": [
    "## Profile Vision Transformer"
   ]
  },
  {
   "cell_type": "code",
   "execution_count": null,
   "metadata": {},
   "outputs": [],
   "source": [
    "# import torch\n",
    "# import torchvision.models as models\n",
    "\n",
    "# device = \"cuda\" if torch.cuda.is_available() else \"cpu\"\n",
    "# model = models.vit_h_14(pretrained=False).to(device)\n",
    "# model.eval()\n",
    "# sample = torch.randn(1, 3, 224, 224).to(device)\n",
    "\n",
    "# with torch.no_grad():\n",
    "#     outputs = model(sample)"
   ]
  }
 ],
 "metadata": {
  "language_info": {
   "name": "python"
  }
 },
 "nbformat": 4,
 "nbformat_minor": 2
}
